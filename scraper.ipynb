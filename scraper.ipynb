{
 "cells": [
  {
   "cell_type": "code",
   "execution_count": 1,
   "metadata": {},
   "outputs": [],
   "source": [
    "from selenium.webdriver.common.by import By\n",
    "from selenium import webdriver\n",
    "import time\n",
    "import uuid\n",
    "import json\n",
    "import os\n",
    "import urllib.request\n",
    "\n",
    "class IMDBScraper:\n",
    "\n",
    "    def __init__(self):\n",
    "        self.session = webdriver.Chrome()\n",
    "        self.URL = \"https://www.imdb.com/search/keyword/?keywords=superhero&pf_rd_m=A2FGELUUNOQJNL&pf_rd_p=a581b14c-5a82-4e29-9cf8-54f909ced9e1&pf_rd_r=WCKJ24NKVMM6G468NPWT&pf_rd_s=center-5&pf_rd_t=15051&pf_rd_i=genre&ref_=kw_ref_typ&mode=detail&page=1&sort=user_rating,desc&title_type=movie\"\n",
    "\n",
    "    def load(self):\n",
    "        driver = self.session.get(self.URL)\n",
    "        return driver\n",
    "\n",
    "    def get_links(d: webdriver.Chrome) -> list:\n",
    "        film_container = d.session.find_element(By.XPATH, '//*[@class=\"lister-list\"]')\n",
    "        film_list = film_container.find_elements(By.XPATH, './div')\n",
    "        link_list = []\n",
    "\n",
    "        for film in film_list:\n",
    "            a_tag = film.find_element(By.TAG_NAME, 'a')\n",
    "            link = a_tag.get_attribute('href')\n",
    "            link_list.append(link)\n",
    "\n",
    "        return link_list\n",
    "    \n",
    "    def crawl(d: webdriver.Chrome):\n",
    "        try:\n",
    "            os.mkdir(\"raw_data\")\n",
    "        except FileExistsError:\n",
    "            pass\n",
    "        for link in big_list:\n",
    "            try:\n",
    "                time.sleep(2)\n",
    "                d.session.get(link)\n",
    "                time.sleep(2)\n",
    "                unique_id = uuid.uuid4()\n",
    "                name = d.session.find_element(By.XPATH, '//h1[@data-testid=\"hero-title-block__title\"]').text\n",
    "                rating = d.session.find_element(By.XPATH, '//span[@class=\"sc-7ab21ed2-1 jGRxWM\"]').text\n",
    "                li_tag = d.session.find_elements(By.XPATH, '//li[@class=\"ipc-inline-list__item ipc-chip__text\"]')\n",
    "                genres =[]\n",
    "                for li in li_tag:\n",
    "                    genres.append(li.text)\n",
    "                year = d.session.find_element(By.XPATH, '//a[@class=\"ipc-link ipc-link--baseAlt ipc-link--inherit-color sc-8c396aa2-1 WIUyh\"]').text\n",
    "                image_tag = d.session.find_element(By.XPATH, '//img[@class=\"ipc-image\"]')\n",
    "                image_url = image_tag.get_attribute('src')\n",
    "                # if d.session.find_elements(By.XPATH, '//a[@data-testid=\"plot-read-all-link\"]').Count() > 0:\n",
    "                #     a_tag = d.session.find_element(By.XPATH, '//a[@data-testid=\"plot-read-all-link\"]')\n",
    "                #     read_all_link = a_tag.get_attribute('href')\n",
    "                #     d.session.get(read_all_link)\n",
    "                #     description = d.session.find_element(By.XPATH, '//li[@id=\"summary-po6521717\"]//p').text\n",
    "                # else:\n",
    "                #     description = d.session.find_element(By.XPATH, '//div[@data-testid=\"plot\"//span').text\n",
    "                # print(description)\n",
    "                dict_film = {'Unique ID': str(unique_id), 'ID': link, 'Name': name, 'Rating': rating, 'Genres': genres, 'Year': year, 'Image URL': image_url}\n",
    "                list_dict.append(dict_film)\n",
    "                try:\n",
    "                    os.mkdir(\"raw_data/\"+str(unique_id))\n",
    "                except FileExistsError:\n",
    "                    pass\n",
    "                with open(\"raw_data/\"+str(unique_id)+\"/data.json\", \"w\") as write_file:\n",
    "                    json.dump(dict_film, write_file, indent=4)\n",
    "            except:\n",
    "                pass\n",
    "\n",
    "    def next(d: webdriver.Chrome):\n",
    "        next_button = d.session.find_element(By.XPATH, '//a[@class=\"lister-page-next next-page\"]')\n",
    "        next_link = next_button.get_attribute('href')\n",
    "        d.session.get(next_link)\n",
    "\n",
    "    def download_images(d: webdriver.Chrome):\n",
    "        for film in list_dict:\n",
    "            url = film['Image URL']\n",
    "            urllib.request.urlretrieve(url, \"raw_data/\"+film['Unique ID']+\"/poster.jpg\")\n",
    "\n",
    "    def exit(d: webdriver.Chrome):\n",
    "        d.session.quit()"
   ]
  },
  {
   "cell_type": "code",
   "execution_count": 2,
   "metadata": {},
   "outputs": [],
   "source": [
    "if __name__ == \"__main__\":\n",
    "    driver = IMDBScraper()\n",
    "    driver.load()\n",
    "    big_list = []\n",
    "    list_dict = []\n",
    "    for i in range(3):\n",
    "        big_list.extend(driver.get_links())\n",
    "        driver.next()\n",
    "    driver.crawl()\n",
    "    driver.exit()"
   ]
  },
  {
   "cell_type": "code",
   "execution_count": 3,
   "metadata": {},
   "outputs": [],
   "source": [
    "if __name__ == \"__main__\":\n",
    "    driver.download_images()"
   ]
  },
  {
   "cell_type": "code",
   "execution_count": null,
   "metadata": {},
   "outputs": [],
   "source": [
    "driver = IMDBScraper()\n",
    "driver.load()"
   ]
  },
  {
   "cell_type": "code",
   "execution_count": null,
   "metadata": {},
   "outputs": [],
   "source": []
  }
 ],
 "metadata": {
  "kernelspec": {
   "display_name": "Python 3.10.4 ('webscrape')",
   "language": "python",
   "name": "python3"
  },
  "language_info": {
   "codemirror_mode": {
    "name": "ipython",
    "version": 3
   },
   "file_extension": ".py",
   "mimetype": "text/x-python",
   "name": "python",
   "nbconvert_exporter": "python",
   "pygments_lexer": "ipython3",
   "version": "3.10.4"
  },
  "orig_nbformat": 4,
  "vscode": {
   "interpreter": {
    "hash": "5d0eebda34ba4c532688bc04ddc600d77f8e4d02a6011ff6a3736c3888e5ebb8"
   }
  }
 },
 "nbformat": 4,
 "nbformat_minor": 2
}
